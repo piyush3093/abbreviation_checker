{
 "cells": [
  {
   "cell_type": "code",
   "execution_count": 1,
   "metadata": {},
   "outputs": [],
   "source": [
    "## Model to check if a word is abbreviation or not\n",
    "\n",
    "import pandas as pd\n",
    "import numpy as np\n",
    "import tensorflow as tf"
   ]
  },
  {
   "cell_type": "code",
   "execution_count": 2,
   "metadata": {},
   "outputs": [
    {
     "name": "stdout",
     "output_type": "stream",
     "text": [
      "       words  label\n",
      "0  HCoV-229E      1\n",
      "1       EtOH      1\n",
      "2         GC      1\n",
      "3         US      1\n",
      "4        PFD      1\n"
     ]
    }
   ],
   "source": [
    "# dataset containing abbreviations and normal words with label as 1 and 0 respectively\n",
    "\n",
    "data = pd.read_csv('words_data.csv')\n",
    "data.drop(\"Unnamed: 0\", axis = 1, inplace = True)\n",
    "\n",
    "print(data.head())"
   ]
  },
  {
   "cell_type": "code",
   "execution_count": 3,
   "metadata": {},
   "outputs": [],
   "source": [
    "## shuffling the data\n",
    "\n",
    "data = data.sample(frac = 1)\n",
    "data = data.sample(frac = 1)\n",
    "data = data.sample(frac = 1)\n",
    "data = data.sample(frac = 1)\n",
    "\n",
    "data.reset_index(drop = True, inplace = True)"
   ]
  },
  {
   "cell_type": "code",
   "execution_count": 4,
   "metadata": {},
   "outputs": [
    {
     "name": "stdout",
     "output_type": "stream",
     "text": [
      "        words  label\n",
      "0       akira      0\n",
      "1         ffa      0\n",
      "2    intercom      0\n",
      "3     trivial      0\n",
      "4         HSC      1\n",
      "5  hemoglobin      0\n",
      "6       RANKL      1\n",
      "7  exclusions      0\n",
      "8          BP      1\n",
      "9     bottoms      0\n"
     ]
    }
   ],
   "source": [
    "print(data.head(10))"
   ]
  },
  {
   "cell_type": "code",
   "execution_count": 5,
   "metadata": {},
   "outputs": [],
   "source": [
    "## distributing the data as train and validation set\n",
    "\n",
    "train_data = data.iloc[:10000, :]\n",
    "val_data = data.iloc[10000:, :]"
   ]
  },
  {
   "cell_type": "code",
   "execution_count": 6,
   "metadata": {},
   "outputs": [
    {
     "name": "stderr",
     "output_type": "stream",
     "text": [
      "C:\\Users\\PIYUSH\\Anaconda3\\lib\\site-packages\\ipykernel_launcher.py:1: SettingWithCopyWarning: \n",
      "A value is trying to be set on a copy of a slice from a DataFrame.\n",
      "Try using .loc[row_indexer,col_indexer] = value instead\n",
      "\n",
      "See the caveats in the documentation: https://pandas.pydata.org/pandas-docs/stable/user_guide/indexing.html#returning-a-view-versus-a-copy\n",
      "  \"\"\"Entry point for launching an IPython kernel.\n",
      "C:\\Users\\PIYUSH\\Anaconda3\\lib\\site-packages\\ipykernel_launcher.py:2: SettingWithCopyWarning: \n",
      "A value is trying to be set on a copy of a slice from a DataFrame.\n",
      "Try using .loc[row_indexer,col_indexer] = value instead\n",
      "\n",
      "See the caveats in the documentation: https://pandas.pydata.org/pandas-docs/stable/user_guide/indexing.html#returning-a-view-versus-a-copy\n",
      "  \n"
     ]
    }
   ],
   "source": [
    "## removing non numeric and non alphabetical characters\n",
    "\n",
    "train_data['words'] = train_data['words'].str.replace(\"[^a-zA-Z0-9]\", \"\")\n",
    "val_data['words'] = val_data['words'].str.replace(\"[^a-zA-Z0-9]\", \"\")\n",
    "val_data.reset_index(drop = True, inplace = True)"
   ]
  },
  {
   "cell_type": "code",
   "execution_count": 7,
   "metadata": {},
   "outputs": [],
   "source": [
    "## A list of all the characters that the dataset contains\n",
    "\n",
    "list_of_chars = ['a', 'b', 'c', 'd', 'e', 'f', 'g', 'h', 'i', 'j', 'k', 'l', 'm', 'n', 'o', 'p', 'q', 'r', 's',\n",
    "                 't', 'u', 'v', 'w', 'x', 'y', 'z', 'A', 'B', 'C', 'D', 'E', 'F', 'G', 'H', 'I', 'J', 'K', 'L',\n",
    "                 'M', 'N', 'O', 'P', 'Q', 'R', 'S', 'T', 'U', 'V', 'W', 'X', 'Y', 'Z', '0', '1', '2', '3', '4',\n",
    "                 '5', '6', '7', '8', '9']"
   ]
  },
  {
   "cell_type": "code",
   "execution_count": 8,
   "metadata": {},
   "outputs": [
    {
     "name": "stdout",
     "output_type": "stream",
     "text": [
      "{'a': 1, 'b': 2, 'c': 3, 'd': 4, 'e': 5, 'f': 6, 'g': 7, 'h': 8, 'i': 9, 'j': 10, 'k': 11, 'l': 12, 'm': 13, 'n': 14, 'o': 15, 'p': 16, 'q': 17, 'r': 18, 's': 19, 't': 20, 'u': 21, 'v': 22, 'w': 23, 'x': 24, 'y': 25, 'z': 26, 'A': 27, 'B': 28, 'C': 29, 'D': 30, 'E': 31, 'F': 32, 'G': 33, 'H': 34, 'I': 35, 'J': 36, 'K': 37, 'L': 38, 'M': 39, 'N': 40, 'O': 41, 'P': 42, 'Q': 43, 'R': 44, 'S': 45, 'T': 46, 'U': 47, 'V': 48, 'W': 49, 'X': 50, 'Y': 51, 'Z': 52, '0': 53, '1': 54, '2': 55, '3': 56, '4': 57, '5': 58, '6': 59, '7': 60, '8': 61, '9': 62}\n"
     ]
    }
   ],
   "source": [
    "char2idx = {u:i+1 for i, u in enumerate(list_of_chars)}\n",
    "print(char2idx)"
   ]
  },
  {
   "cell_type": "code",
   "execution_count": 9,
   "metadata": {},
   "outputs": [],
   "source": [
    "## labeling the data using char2idx dictionary\n",
    "\n",
    "training_words = []\n",
    "for i in range(0, len(train_data)):\n",
    "    current_word = []\n",
    "    for j in range(0, len(train_data['words'][i])):\n",
    "        current_word.append(char2idx[train_data['words'][i][j]])\n",
    "    training_words.append(current_word)\n",
    "\n",
    "val_words = []\n",
    "for i in range(0, len(val_data)):\n",
    "    current_word = []\n",
    "    for j in range(0, len(val_data['words'][i])):\n",
    "        current_word.append(char2idx[val_data['words'][i][j]])\n",
    "    val_words.append(current_word)"
   ]
  },
  {
   "cell_type": "code",
   "execution_count": 10,
   "metadata": {},
   "outputs": [
    {
     "name": "stdout",
     "output_type": "stream",
     "text": [
      "[[1, 11, 9, 18, 1], [6, 6, 1], [9, 14, 20, 5, 18, 3, 15, 13], [20, 18, 9, 22, 9, 1, 12], [34, 45, 29]]\n",
      "[[1, 18, 13, 1, 14, 4], [16, 18, 15, 16, 15, 14, 5, 14, 20], [21, 18, 9, 14, 5], [3, 8, 5, 18, 18, 25], [19, 20, 18, 1, 14, 7, 5, 18, 19]]\n"
     ]
    }
   ],
   "source": [
    "print(training_words[:5])\n",
    "print(val_words[:5])"
   ]
  },
  {
   "cell_type": "code",
   "execution_count": 11,
   "metadata": {},
   "outputs": [],
   "source": [
    "from tensorflow.keras.preprocessing.sequence import pad_sequences"
   ]
  },
  {
   "cell_type": "code",
   "execution_count": 12,
   "metadata": {},
   "outputs": [],
   "source": [
    "## padding the data with maxlength as the maximum length words in training words\n",
    "\n",
    "max_length = max([len(x) for x in training_words])\n",
    "padded = pad_sequences(training_words, maxlen = max_length, padding = 'post', truncating = 'post')\n",
    "train_labels = list(train_data['label'])\n",
    "train_labels = np.array(train_labels)"
   ]
  },
  {
   "cell_type": "code",
   "execution_count": 13,
   "metadata": {},
   "outputs": [],
   "source": [
    "val_padded = pad_sequences(val_words, maxlen = max_length, padding = 'post', truncating = 'post')\n",
    "val_labels = list(val_data['label'])\n",
    "val_labels = np.array(val_labels)"
   ]
  },
  {
   "cell_type": "code",
   "execution_count": 14,
   "metadata": {},
   "outputs": [
    {
     "name": "stdout",
     "output_type": "stream",
     "text": [
      "[[ 1 11  9 18  1  0  0  0  0  0  0  0  0  0  0  0  0  0  0  0  0]\n",
      " [ 6  6  1  0  0  0  0  0  0  0  0  0  0  0  0  0  0  0  0  0  0]\n",
      " [ 9 14 20  5 18  3 15 13  0  0  0  0  0  0  0  0  0  0  0  0  0]\n",
      " [20 18  9 22  9  1 12  0  0  0  0  0  0  0  0  0  0  0  0  0  0]\n",
      " [34 45 29  0  0  0  0  0  0  0  0  0  0  0  0  0  0  0  0  0  0]]\n",
      "[[ 1 18 13  1 14  4  0  0  0  0  0  0  0  0  0  0  0  0  0  0  0]\n",
      " [16 18 15 16 15 14  5 14 20  0  0  0  0  0  0  0  0  0  0  0  0]\n",
      " [21 18  9 14  5  0  0  0  0  0  0  0  0  0  0  0  0  0  0  0  0]\n",
      " [ 3  8  5 18 18 25  0  0  0  0  0  0  0  0  0  0  0  0  0  0  0]\n",
      " [19 20 18  1 14  7  5 18 19  0  0  0  0  0  0  0  0  0  0  0  0]]\n"
     ]
    }
   ],
   "source": [
    "print(padded[:5])\n",
    "print(val_padded[:5])"
   ]
  },
  {
   "cell_type": "code",
   "execution_count": 15,
   "metadata": {},
   "outputs": [
    {
     "name": "stdout",
     "output_type": "stream",
     "text": [
      "Epoch 1/5\n",
      "313/313 [==============================] - 7s 9ms/step - loss: 0.3144 - accuracy: 0.8720\n",
      "Epoch 2/5\n",
      "313/313 [==============================] - 3s 8ms/step - loss: 0.0158 - accuracy: 0.9958\n",
      "Epoch 3/5\n",
      "313/313 [==============================] - 3s 9ms/step - loss: 0.0088 - accuracy: 0.9976\n",
      "Epoch 4/5\n",
      "313/313 [==============================] - 3s 8ms/step - loss: 0.0097 - accuracy: 0.9976\n",
      "Epoch 5/5\n",
      "313/313 [==============================] - 3s 8ms/step - loss: 0.0102 - accuracy: 0.9970\n"
     ]
    },
    {
     "data": {
      "text/plain": [
       "<tensorflow.python.keras.callbacks.History at 0x236d39c4ac8>"
      ]
     },
     "execution_count": 15,
     "metadata": {},
     "output_type": "execute_result"
    }
   ],
   "source": [
    "## training the model\n",
    "\n",
    "model = tf.keras.Sequential([\n",
    "        tf.keras.layers.Embedding(63, 25, input_length = max_length),\n",
    "        tf.keras.layers.Bidirectional(tf.keras.layers.LSTM(32)),\n",
    "        tf.keras.layers.Dense(16, activation = 'relu'),\n",
    "        tf.keras.layers.Dense(1, activation = 'sigmoid')\n",
    "    ])\n",
    "\n",
    "model.compile(loss = 'binary_crossentropy', optimizer = 'adam', metrics = ['accuracy'])\n",
    "\n",
    "model.fit(padded, train_labels, epochs = 5)"
   ]
  },
  {
   "cell_type": "code",
   "execution_count": 16,
   "metadata": {},
   "outputs": [],
   "source": [
    "val_pred = model.predict(val_padded)\n",
    "for i in range(0, len(val_pred)):\n",
    "    if(val_pred[i] > 0.5):\n",
    "        val_pred[i] = 1\n",
    "    else:\n",
    "        val_pred[i] = 0"
   ]
  },
  {
   "cell_type": "code",
   "execution_count": 17,
   "metadata": {},
   "outputs": [],
   "source": [
    "from sklearn.metrics import confusion_matrix\n",
    "cm = confusion_matrix(val_labels, val_pred)"
   ]
  },
  {
   "cell_type": "code",
   "execution_count": 18,
   "metadata": {},
   "outputs": [
    {
     "name": "stdout",
     "output_type": "stream",
     "text": [
      "[[2171    0]\n",
      " [   7  628]]\n"
     ]
    }
   ],
   "source": [
    "print(cm)"
   ]
  },
  {
   "cell_type": "code",
   "execution_count": null,
   "metadata": {},
   "outputs": [],
   "source": []
  },
  {
   "cell_type": "code",
   "execution_count": null,
   "metadata": {},
   "outputs": [],
   "source": []
  },
  {
   "cell_type": "code",
   "execution_count": 19,
   "metadata": {},
   "outputs": [
    {
     "data": {
      "text/plain": [
       "0       akira\n",
       "1         ffa\n",
       "2    intercom\n",
       "3     trivial\n",
       "4         HSC\n",
       "Name: words, dtype: object"
      ]
     },
     "execution_count": 19,
     "metadata": {},
     "output_type": "execute_result"
    }
   ],
   "source": [
    "train_data['words'].head()"
   ]
  },
  {
   "cell_type": "code",
   "execution_count": 21,
   "metadata": {},
   "outputs": [
    {
     "name": "stderr",
     "output_type": "stream",
     "text": [
      "C:\\Users\\PIYUSH\\Anaconda3\\lib\\site-packages\\ipykernel_launcher.py:1: SettingWithCopyWarning: \n",
      "A value is trying to be set on a copy of a slice from a DataFrame.\n",
      "Try using .loc[row_indexer,col_indexer] = value instead\n",
      "\n",
      "See the caveats in the documentation: https://pandas.pydata.org/pandas-docs/stable/user_guide/indexing.html#returning-a-view-versus-a-copy\n",
      "  \"\"\"Entry point for launching an IPython kernel.\n"
     ]
    }
   ],
   "source": [
    "train_data['words'] = train_data['words'].str.lower()"
   ]
  },
  {
   "cell_type": "code",
   "execution_count": 22,
   "metadata": {},
   "outputs": [
    {
     "name": "stderr",
     "output_type": "stream",
     "text": [
      "C:\\Users\\PIYUSH\\Anaconda3\\lib\\site-packages\\ipykernel_launcher.py:1: SettingWithCopyWarning: \n",
      "A value is trying to be set on a copy of a slice from a DataFrame.\n",
      "Try using .loc[row_indexer,col_indexer] = value instead\n",
      "\n",
      "See the caveats in the documentation: https://pandas.pydata.org/pandas-docs/stable/user_guide/indexing.html#returning-a-view-versus-a-copy\n",
      "  \"\"\"Entry point for launching an IPython kernel.\n"
     ]
    }
   ],
   "source": [
    "val_data['words'] = val_data['words'].str.lower()"
   ]
  },
  {
   "cell_type": "code",
   "execution_count": 25,
   "metadata": {},
   "outputs": [
    {
     "name": "stdout",
     "output_type": "stream",
     "text": [
      "        words  label\n",
      "0       akira      0\n",
      "1         ffa      0\n",
      "2    intercom      0\n",
      "3     trivial      0\n",
      "4         hsc      1\n",
      "5  hemoglobin      0\n",
      "6       rankl      1\n",
      "7  exclusions      0\n",
      "8          bp      1\n",
      "9     bottoms      0\n",
      "       words  label\n",
      "0     armand      0\n",
      "1  proponent      0\n",
      "2      urine      0\n",
      "3     cherry      0\n",
      "4  strangers      0\n",
      "5        iop      1\n",
      "6        lnf      1\n",
      "7        odi      1\n",
      "8  observers      0\n",
      "9         hs      1\n"
     ]
    }
   ],
   "source": [
    "print(train_data.head(10))\n",
    "print(val_data.head(10))"
   ]
  },
  {
   "cell_type": "code",
   "execution_count": 26,
   "metadata": {},
   "outputs": [
    {
     "name": "stdout",
     "output_type": "stream",
     "text": [
      "{'a': 1, 'b': 2, 'c': 3, 'd': 4, 'e': 5, 'f': 6, 'g': 7, 'h': 8, 'i': 9, 'j': 10, 'k': 11, 'l': 12, 'm': 13, 'n': 14, 'o': 15, 'p': 16, 'q': 17, 'r': 18, 's': 19, 't': 20, 'u': 21, 'v': 22, 'w': 23, 'x': 24, 'y': 25, 'z': 26, '0': 27, '1': 28, '2': 29, '3': 30, '4': 31, '5': 32, '6': 33, '7': 34, '8': 35, '9': 36}\n"
     ]
    }
   ],
   "source": [
    "list_of_chars = ['a', 'b', 'c', 'd', 'e', 'f', 'g', 'h', 'i', 'j', 'k', 'l', 'm', 'n', 'o', 'p', 'q', 'r', 's',\n",
    "                 't', 'u', 'v', 'w', 'x', 'y', 'z', '0', '1', '2', '3', '4',\n",
    "                 '5', '6', '7', '8', '9']\n",
    "\n",
    "char2idx = {u:i+1 for i, u in enumerate(list_of_chars)}\n",
    "print(char2idx)"
   ]
  },
  {
   "cell_type": "code",
   "execution_count": 27,
   "metadata": {},
   "outputs": [],
   "source": [
    "training_words = []\n",
    "for i in range(0, len(train_data)):\n",
    "    current_word = []\n",
    "    for j in range(0, len(train_data['words'][i])):\n",
    "        current_word.append(char2idx[train_data['words'][i][j]])\n",
    "    training_words.append(current_word)\n",
    "\n",
    "val_words = []\n",
    "for i in range(0, len(val_data)):\n",
    "    current_word = []\n",
    "    for j in range(0, len(val_data['words'][i])):\n",
    "        current_word.append(char2idx[val_data['words'][i][j]])\n",
    "    val_words.append(current_word)"
   ]
  },
  {
   "cell_type": "code",
   "execution_count": 28,
   "metadata": {},
   "outputs": [],
   "source": [
    "max_length = max([len(x) for x in training_words])\n",
    "padded = pad_sequences(training_words, maxlen = max_length, padding = 'post', truncating = 'post')\n",
    "train_labels = list(train_data['label'])\n",
    "train_labels = np.array(train_labels)\n",
    "\n",
    "val_padded = pad_sequences(val_words, maxlen = max_length, padding = 'post', truncating = 'post')\n",
    "val_labels = list(val_data['label'])\n",
    "val_labels = np.array(val_labels)"
   ]
  },
  {
   "cell_type": "code",
   "execution_count": 30,
   "metadata": {},
   "outputs": [
    {
     "name": "stdout",
     "output_type": "stream",
     "text": [
      "Epoch 1/5\n",
      "313/313 [==============================] - 6s 7ms/step - loss: 0.4396 - accuracy: 0.8187\n",
      "Epoch 2/5\n",
      "313/313 [==============================] - 2s 7ms/step - loss: 0.2453 - accuracy: 0.8824\n",
      "Epoch 3/5\n",
      "313/313 [==============================] - 2s 8ms/step - loss: 0.2348 - accuracy: 0.8955\n",
      "Epoch 4/5\n",
      "313/313 [==============================] - 2s 8ms/step - loss: 0.2327 - accuracy: 0.8911\n",
      "Epoch 5/5\n",
      "313/313 [==============================] - 2s 8ms/step - loss: 0.2325 - accuracy: 0.8944\n"
     ]
    },
    {
     "data": {
      "text/plain": [
       "<tensorflow.python.keras.callbacks.History at 0x236dd36ee48>"
      ]
     },
     "execution_count": 30,
     "metadata": {},
     "output_type": "execute_result"
    }
   ],
   "source": [
    "model = tf.keras.Sequential([\n",
    "        tf.keras.layers.Embedding(63, 25, input_length = max_length),\n",
    "        tf.keras.layers.Bidirectional(tf.keras.layers.LSTM(32)),\n",
    "        tf.keras.layers.Dense(16, activation = 'relu'),\n",
    "        tf.keras.layers.Dense(1, activation = 'sigmoid')\n",
    "    ])\n",
    "\n",
    "model.compile(loss = 'binary_crossentropy', optimizer = 'adam', metrics = ['accuracy'])\n",
    "\n",
    "model.fit(padded, train_labels, epochs = 5)"
   ]
  },
  {
   "cell_type": "code",
   "execution_count": 29,
   "metadata": {},
   "outputs": [
    {
     "name": "stdout",
     "output_type": "stream",
     "text": [
      "[[ 1 11  9 18  1  0  0  0  0  0  0  0  0  0  0  0  0  0  0  0  0]\n",
      " [ 6  6  1  0  0  0  0  0  0  0  0  0  0  0  0  0  0  0  0  0  0]\n",
      " [ 9 14 20  5 18  3 15 13  0  0  0  0  0  0  0  0  0  0  0  0  0]\n",
      " [20 18  9 22  9  1 12  0  0  0  0  0  0  0  0  0  0  0  0  0  0]\n",
      " [ 8 19  3  0  0  0  0  0  0  0  0  0  0  0  0  0  0  0  0  0  0]]\n",
      "[[ 1 18 13  1 14  4  0  0  0  0  0  0  0  0  0  0  0  0  0  0  0]\n",
      " [16 18 15 16 15 14  5 14 20  0  0  0  0  0  0  0  0  0  0  0  0]\n",
      " [21 18  9 14  5  0  0  0  0  0  0  0  0  0  0  0  0  0  0  0  0]\n",
      " [ 3  8  5 18 18 25  0  0  0  0  0  0  0  0  0  0  0  0  0  0  0]\n",
      " [19 20 18  1 14  7  5 18 19  0  0  0  0  0  0  0  0  0  0  0  0]]\n"
     ]
    }
   ],
   "source": [
    "print(padded[:5])\n",
    "print(val_padded[:5])"
   ]
  },
  {
   "cell_type": "code",
   "execution_count": 31,
   "metadata": {},
   "outputs": [],
   "source": [
    "val_pred = model.predict(val_padded)\n",
    "for i in range(0, len(val_pred)):\n",
    "    if(val_pred[i] > 0.5):\n",
    "        val_pred[i] = 1\n",
    "    else:\n",
    "        val_pred[i] = 0"
   ]
  },
  {
   "cell_type": "code",
   "execution_count": 32,
   "metadata": {},
   "outputs": [
    {
     "name": "stdout",
     "output_type": "stream",
     "text": [
      "[[1983  188]\n",
      " [ 127  508]]\n"
     ]
    }
   ],
   "source": [
    "cm = confusion_matrix(val_labels, val_pred)\n",
    "print(cm)"
   ]
  },
  {
   "cell_type": "code",
   "execution_count": 33,
   "metadata": {},
   "outputs": [
    {
     "name": "stdout",
     "output_type": "stream",
     "text": [
      "0.8877405559515325\n"
     ]
    }
   ],
   "source": [
    "print((1983+508)/(1983+508+127+188))"
   ]
  },
  {
   "cell_type": "code",
   "execution_count": null,
   "metadata": {},
   "outputs": [],
   "source": [
    "## val_accuracy: 88.7%"
   ]
  }
 ],
 "metadata": {
  "kernelspec": {
   "display_name": "Python 3",
   "language": "python",
   "name": "python3"
  },
  "language_info": {
   "codemirror_mode": {
    "name": "ipython",
    "version": 3
   },
   "file_extension": ".py",
   "mimetype": "text/x-python",
   "name": "python",
   "nbconvert_exporter": "python",
   "pygments_lexer": "ipython3",
   "version": "3.7.7"
  }
 },
 "nbformat": 4,
 "nbformat_minor": 4
}
